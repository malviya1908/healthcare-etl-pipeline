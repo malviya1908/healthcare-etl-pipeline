{
 "cells": [
  {
   "cell_type": "code",
   "execution_count": 1,
   "id": "a51b2693-9276-402c-b3d3-c3c48dbd4750",
   "metadata": {
    "tags": []
   },
   "outputs": [],
   "source": [
    "from pyspark.sql import SparkSession\n",
    "from pyspark.sql.functions import *"
   ]
  },
  {
   "cell_type": "markdown",
   "id": "f60a9f52-cd4a-43ce-9058-53f061ee7023",
   "metadata": {},
   "source": [
    "# Creating a spark session and reading the raw data into the dataframe"
   ]
  },
  {
   "cell_type": "code",
   "execution_count": 8,
   "id": "af51bd99-8c1c-468c-9c00-bb526fdff351",
   "metadata": {
    "tags": []
   },
   "outputs": [],
   "source": [
    "# Create a spark session\n",
    "spark = SparkSession.builder.appName(\"Process_Patients_Data\").getOrCreate()"
   ]
  },
  {
   "cell_type": "code",
   "execution_count": 9,
   "id": "1b7ee00c-fe74-4a1a-9fca-05bda6a3aadc",
   "metadata": {
    "tags": []
   },
   "outputs": [],
   "source": [
    "# Reading the raw data from gcs\n",
    "patients_df = spark.read.format(\"csv\")\\\n",
    "                    .option(\"header\", True)\\\n",
    "                    .option(\"inferschema\", True)\\\n",
    "                    .option(\"mode\", \"PERMISSIVE\")\\\n",
    "                    .load(\"gs://dataproc_bucket_prac/patients_data/data/patients_data.csv\")"
   ]
  },
  {
   "cell_type": "code",
   "execution_count": 10,
   "id": "25daf19e-caa5-464c-b107-f0d618ced02e",
   "metadata": {
    "tags": []
   },
   "outputs": [
    {
     "name": "stdout",
     "output_type": "stream",
     "text": [
      "+---+-------------+---+------+-------------+--------------+----------------+------------+\n",
      "| id|         name|age|gender|    diagnosis|admission_date|treatment_status|      doctor|\n",
      "+---+-------------+---+------+-------------+--------------+----------------+------------+\n",
      "|  1|     John Doe| 32|  Male|     Diabetes|    01-12-2024| Under Treatment|   Dr. Smith|\n",
      "|  2|   Jane Smith| 28|Female|       Asthma|    05-12-2024|      Discharged|   Dr. Adams|\n",
      "|  3| Samuel Green| 45|  Male| Hypertension|    25-11-2024| Under Treatment|     Dr. Lee|\n",
      "|  4|  Emily White| 37|Female|Fractured Arm|    10-12-2024| Under Treatment|  Dr. Carter|\n",
      "|  5|Michael Brown| 60|  Male|Heart Disease|    01-12-2024|      Discharged|Dr. Williams|\n",
      "+---+-------------+---+------+-------------+--------------+----------------+------------+\n",
      "only showing top 5 rows\n",
      "\n"
     ]
    }
   ],
   "source": [
    "patients_df.show(5)"
   ]
  },
  {
   "cell_type": "markdown",
   "id": "c1211d98-524d-4620-a0a6-e6fc0e92f0f8",
   "metadata": {},
   "source": [
    "# Checking for Valid and Invalid records"
   ]
  },
  {
   "cell_type": "code",
   "execution_count": 11,
   "id": "b57a5cd4-1ab6-4495-855f-f50b64a1f259",
   "metadata": {
    "tags": []
   },
   "outputs": [
    {
     "name": "stdout",
     "output_type": "stream",
     "text": [
      "+---+--------------+----+------+---------+--------------+----------------+------------+\n",
      "| id|          name| age|gender|diagnosis|admission_date|treatment_status|      doctor|\n",
      "+---+--------------+----+------+---------+--------------+----------------+------------+\n",
      "| 12|          NULL|  41|Female|   Stroke|          NULL|           Death|Dr. Williams|\n",
      "| 13|  George White|NULL|  Male|  Malaria|    05-12-2024| Under Treatment|   Dr. Black|\n",
      "| 17|   John Martin|  43|  Male|   Asthma|    04-12-2024|           Death|        NULL|\n",
      "| 37|Benjamin Scott|  30|  Male|   Stroke|    06-12-2024|           Death|        NULL|\n",
      "+---+--------------+----+------+---------+--------------+----------------+------------+\n",
      "\n"
     ]
    }
   ],
   "source": [
    "# Checking for invalid columns dynamically (Columns that are null is this case)\n",
    "invalid_df = patients_df.filter((\" OR \").join([f\"{column} IS NULL\" for column in patients_df.columns]))\n",
    "invalid_df.show()"
   ]
  },
  {
   "cell_type": "code",
   "execution_count": 12,
   "id": "2fc7e412-4c59-4dfe-8152-b264ad979cc1",
   "metadata": {
    "tags": []
   },
   "outputs": [
    {
     "name": "stderr",
     "output_type": "stream",
     "text": [
      "                                                                                \r"
     ]
    },
    {
     "name": "stdout",
     "output_type": "stream",
     "text": [
      "+---+\n",
      "| id|\n",
      "+---+\n",
      "| 12|\n",
      "| 13|\n",
      "| 17|\n",
      "| 37|\n",
      "+---+\n",
      "\n"
     ]
    }
   ],
   "source": [
    "# Creating a dataframe for invalid ids (Single Column \"id\" Dataframe)\n",
    "invalid_ids = [row[\"id\"] for row in invalid_df.collect()]\n",
    "invalid_ids_df = spark.createDataFrame([(id,) for id in invalid_ids], [\"id\"])\n",
    "invalid_ids_df.show()"
   ]
  },
  {
   "cell_type": "code",
   "execution_count": 13,
   "id": "801734bf-7019-4046-b2c5-65b4076dbc7b",
   "metadata": {
    "tags": []
   },
   "outputs": [
    {
     "name": "stdout",
     "output_type": "stream",
     "text": [
      "+---+---------------+---+------+-------------+--------------+----------------+------------+\n",
      "| id|           name|age|gender|    diagnosis|admission_date|treatment_status|      doctor|\n",
      "+---+---------------+---+------+-------------+--------------+----------------+------------+\n",
      "|  1|       John Doe| 32|  Male|     Diabetes|    01-12-2024| Under Treatment|   Dr. Smith|\n",
      "|  2|     Jane Smith| 28|Female|       Asthma|    05-12-2024|      Discharged|   Dr. Adams|\n",
      "|  3|   Samuel Green| 45|  Male| Hypertension|    25-11-2024| Under Treatment|     Dr. Lee|\n",
      "|  4|    Emily White| 37|Female|Fractured Arm|    10-12-2024| Under Treatment|  Dr. Carter|\n",
      "|  5|  Michael Brown| 60|  Male|Heart Disease|    01-12-2024|      Discharged|Dr. Williams|\n",
      "|  6|   Sophia Black| 52|Female|    Pneumonia|    20-11-2024| Under Treatment|   Dr. Patel|\n",
      "|  7|   Chris Martin| 30|  Male|          Flu|    08-12-2024| Under Treatment| Dr. Johnson|\n",
      "|  8|   Linda Taylor| 29|Female|     COVID-19|    05-12-2024|      Discharged|   Dr. Allen|\n",
      "|  9|    Robert King| 40|  Male|    Back Pain|    30-11-2024| Under Treatment|   Dr. Davis|\n",
      "| 10|     Mary Clark| 55|Female|         Cold|    01-12-2024| Under Treatment|  Dr. Watson|\n",
      "| 11|      David Lee| 34|  Male|     Diabetes|    02-12-2024| Under Treatment|  Dr. Turner|\n",
      "| 14|     Lisa Green| 33|Female|          Flu|    01-12-2024|      Discharged|   Dr. Allen|\n",
      "| 15|    Mark Wilson| 50|  Male|         Cold|    02-12-2024| Under Treatment|  Dr. Carter|\n",
      "| 16|   Rachel Adams| 29|Female|    Pneumonia|    06-12-2024| Under Treatment|     Dr. Lee|\n",
      "| 18| Maria Gonzalez| 25|Female|Heart Disease|    28-11-2024| Under Treatment|  Dr. Watson|\n",
      "| 19|   Nina Roberts| 32|Female| Hypertension|    03-12-2024| Under Treatment|  Dr. Carter|\n",
      "| 20|    Paul Walker| 38|  Male|    Back Pain|    07-12-2024| Under Treatment|   Dr. Davis|\n",
      "| 21|   Liam Johnson| 26|  Male|          Flu|    01-12-2024| Under Treatment|   Dr. Allen|\n",
      "| 22|Isabella Turner| 50|Female|     Diabetes|    10-12-2024|      Discharged|   Dr. Patel|\n",
      "| 23|  Matthew Moore| 60|  Male|       Stroke|    04-12-2024| Under Treatment|   Dr. Smith|\n",
      "| 24|       Lily Lee| 34|Female|     COVID-19|    06-12-2024|      Discharged|   Dr. Brown|\n",
      "| 25|  Daniel Thomas| 40|  Male|          Flu|    02-12-2024| Under Treatment|Dr. Williams|\n",
      "| 26|  Grace Jackson| 30|Female|Heart Disease|    01-12-2024| Under Treatment|     Dr. Lee|\n",
      "| 27|    Jack Harris| 55|  Male|     Diabetes|    08-12-2024| Under Treatment|   Dr. Patel|\n",
      "| 28|    Olivia King| 42|Female|       Stroke|    29-11-2024|           Death|  Dr. Carter|\n",
      "| 29|    James Clark| 60|  Male|         Cold|    10-12-2024| Under Treatment|   Dr. Davis|\n",
      "| 30|Charlotte Lewis| 35|Female|       Asthma|    03-12-2024| Under Treatment|   Dr. Gupta|\n",
      "| 31|    Aiden Scott| 29|  Male|    Back Pain|    02-12-2024|      Discharged|  Dr. Turner|\n",
      "| 32|     Emma Davis| 33|Female|    Pneumonia|    01-12-2024| Under Treatment|Dr. Williams|\n",
      "| 33|  William Allen| 26|  Male| Hypertension|    09-12-2024| Under Treatment| Dr. Johnson|\n",
      "| 34|    Layla White| 41|Female|          Flu|    07-12-2024|      Discharged|   Dr. Allen|\n",
      "| 35|   Oliver Young| 31|  Male|Heart Disease|    02-12-2024| Under Treatment|   Dr. Brown|\n",
      "| 36|     Chloe Hill| 38|Female|     COVID-19|    04-12-2024|      Discharged|   Dr. Allen|\n",
      "| 38|Scarlett Carter| 27|Female|       Asthma|    01-12-2024| Under Treatment|   Dr. Gupta|\n",
      "| 39|    Henry Adams| 60|  Male|     Diabetes|    05-12-2024| Under Treatment|   Dr. Smith|\n",
      "| 40|   Harper Young| 32|Female|    Back Pain|    01-12-2024| Under Treatment| Dr. Johnson|\n",
      "| 41|      Leo Perez| 34|  Male|         Cold|    02-12-2024| Under Treatment|   Dr. Black|\n",
      "| 42|   Amelia Moore| 29|Female|          Flu|    10-12-2024|      Discharged|   Dr. Brown|\n",
      "| 43|   Isaac Wilson| 48|  Male|Heart Disease|    03-12-2024| Under Treatment|   Dr. Patel|\n",
      "| 44|    Maya Taylor| 33|Female| Hypertension|    08-12-2024| Under Treatment|     Dr. Lee|\n",
      "+---+---------------+---+------+-------------+--------------+----------------+------------+\n",
      "only showing top 40 rows\n",
      "\n"
     ]
    }
   ],
   "source": [
    "# Getting the valid records by joining using Left-Anti join\n",
    "valid_df = patients_df.join(broadcast(invalid_ids_df), on=\"id\", how=\"leftanti\")\n",
    "valid_df.show(40)"
   ]
  },
  {
   "cell_type": "code",
   "execution_count": 17,
   "id": "ad08b376-f72a-4f63-8196-217f187f935e",
   "metadata": {
    "tags": []
   },
   "outputs": [
    {
     "name": "stdout",
     "output_type": "stream",
     "text": [
      "+---+-------------+---+------+-------------+--------------+----------------+------------+\n",
      "| id|         name|age|gender|    diagnosis|admission_date|treatment_status|      doctor|\n",
      "+---+-------------+---+------+-------------+--------------+----------------+------------+\n",
      "|  1|     John Doe| 32|  Male|     Diabetes|    2024-12-01| Under Treatment|   Dr. Smith|\n",
      "|  2|   Jane Smith| 28|Female|       Asthma|    2024-12-05|      Discharged|   Dr. Adams|\n",
      "|  3| Samuel Green| 45|  Male| Hypertension|    2024-11-25| Under Treatment|     Dr. Lee|\n",
      "|  4|  Emily White| 37|Female|Fractured Arm|    2024-12-10| Under Treatment|  Dr. Carter|\n",
      "|  5|Michael Brown| 60|  Male|Heart Disease|    2024-12-01|      Discharged|Dr. Williams|\n",
      "+---+-------------+---+------+-------------+--------------+----------------+------------+\n",
      "only showing top 5 rows\n",
      "\n"
     ]
    }
   ],
   "source": [
    "# Changing the date format for admission_date column in the valid_records_df\n",
    "final_valid_df = valid_df.withColumn(\"admission_date\", to_date(\"admission_date\", \"dd-MM-yyyy\"))\n",
    "final_valid_df.show(5)"
   ]
  },
  {
   "cell_type": "code",
   "execution_count": 16,
   "id": "86cb18b2-921c-4f08-aaa7-7294760c3b4c",
   "metadata": {
    "tags": []
   },
   "outputs": [
    {
     "name": "stderr",
     "output_type": "stream",
     "text": [
      "                                                                                \r"
     ]
    },
    {
     "name": "stdout",
     "output_type": "stream",
     "text": [
      "Successfully wrote the invalid records to the bucket : gs://dataproc_bucket_prac/patients_data/invalid_data/\n"
     ]
    }
   ],
   "source": [
    "# Writing invalid records to the patients_invalid_bucket\n",
    "patients_invalid_bucket = \"gs://dataproc_bucket_prac/patients_data/invalid_data/\"\n",
    "invalid_df.write.mode(\"append\").option(\"header\", \"true\").csv(patients_invalid_bucket)\n",
    "print(f\"Successfully wrote the invalid records to the bucket : {patients_invalid_bucket}\")"
   ]
  },
  {
   "cell_type": "code",
   "execution_count": 19,
   "id": "f65918da-232c-49ff-94d3-c4c206f98837",
   "metadata": {
    "tags": []
   },
   "outputs": [
    {
     "name": "stderr",
     "output_type": "stream",
     "text": [
      "                                                                                \r"
     ]
    },
    {
     "name": "stdout",
     "output_type": "stream",
     "text": [
      "Successfully wrote the final valid records to the bucket : gs://dataproc_bucket_prac/patients_data/invalid_data/\n"
     ]
    }
   ],
   "source": [
    "# Writing the final valid record to the patients_valid_bucket\n",
    "patients_valid_bucket = \"gs://dataproc_bucket_prac/patients_data/valid_data/\"\n",
    "final_valid_df.write.mode(\"append\").option(\"header\", \"true\").csv(patients_valid_bucket)\n",
    "print(f\"Successfully wrote the final valid records to the bucket : {patients_invalid_bucket}\")"
   ]
  },
  {
   "cell_type": "code",
   "execution_count": 20,
   "id": "65886a8b-1672-41d2-9cec-08336d2739ae",
   "metadata": {
    "tags": []
   },
   "outputs": [
    {
     "name": "stderr",
     "output_type": "stream",
     "text": [
      "                                                                                \r"
     ]
    },
    {
     "name": "stdout",
     "output_type": "stream",
     "text": [
      "Successfully wrote the final valid records to the BigQuery Table : synthetic-nova-438808-k6.patients_dataset.patientsData\n"
     ]
    }
   ],
   "source": [
    "# Writing the final valid records to the BigQuery Table \n",
    "bq_table = \"synthetic-nova-438808-k6.patients_dataset.patientsData\"\n",
    "bq_temp_bucket = \"gs://dataproc_bucket_prac/patients_data/bq_temp_bucket/\"\n",
    "final_valid_df.write \\\n",
    "            .format(\"bigquery\") \\\n",
    "            .option(\"table\", bq_table) \\\n",
    "            .option(\"temporaryGcsBucket\", bq_temp_bucket) \\\n",
    "            .mode(\"append\") \\\n",
    "            .save()\n",
    "print(f\"Successfully wrote the final valid records to the BigQuery Table : {bq_table}\")"
   ]
  },
  {
   "cell_type": "code",
   "execution_count": null,
   "id": "c61a8a54-e26d-4804-9486-e59d68201f0f",
   "metadata": {},
   "outputs": [],
   "source": []
  },
  {
   "cell_type": "code",
   "execution_count": null,
   "id": "6aa49715-ea75-4e81-9630-f05ed1cc79d0",
   "metadata": {},
   "outputs": [],
   "source": []
  },
  {
   "cell_type": "code",
   "execution_count": null,
   "id": "84747235-889c-4943-b559-9b68cb3d4dd7",
   "metadata": {},
   "outputs": [],
   "source": []
  },
  {
   "cell_type": "code",
   "execution_count": null,
   "id": "6e874d0d-d32e-404a-956a-e7c9b100e650",
   "metadata": {},
   "outputs": [],
   "source": []
  }
 ],
 "metadata": {
  "kernelspec": {
   "display_name": "Python 3 (ipykernel)",
   "language": "python",
   "name": "python3"
  },
  "language_info": {
   "codemirror_mode": {
    "name": "ipython",
    "version": 3
   },
   "file_extension": ".py",
   "mimetype": "text/x-python",
   "name": "python",
   "nbconvert_exporter": "python",
   "pygments_lexer": "ipython3",
   "version": "3.9.13"
  }
 },
 "nbformat": 4,
 "nbformat_minor": 5
}
